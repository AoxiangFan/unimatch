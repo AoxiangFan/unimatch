{
 "cells": [
  {
   "cell_type": "code",
   "execution_count": 1,
   "metadata": {},
   "outputs": [
    {
     "name": "stderr",
     "output_type": "stream",
     "text": [
      "/scratch/cvlab/home/afan/miniconda3/envs/unimatch/lib/python3.8/site-packages/tqdm/auto.py:21: TqdmWarning: IProgress not found. Please update jupyter and ipywidgets. See https://ipywidgets.readthedocs.io/en/stable/user_install.html\n",
      "  from .autonotebook import tqdm as notebook_tqdm\n"
     ]
    }
   ],
   "source": [
    "import os, sys, copy, time, random, argparse, cv2\n",
    "\n",
    "import imageio\n",
    "import numpy as np\n",
    "\n",
    "import torch\n",
    "import torch.nn as nn\n",
    "import torch.nn.functional as F\n",
    "\n",
    "import torch.optim as optim\n",
    "from torch.nn.functional import normalize\n",
    "\n",
    "import matplotlib.pyplot as plt\n",
    "%matplotlib inline\n",
    "\n",
    "PI = 3.141592653589793"
   ]
  },
  {
   "cell_type": "code",
   "execution_count": 2,
   "metadata": {},
   "outputs": [],
   "source": [
    "torch.manual_seed(0)\n",
    "embedding_dimension = 64\n",
    "std = 1.0\n",
    "basis = torch.normal(mean=torch.zeros(1, embedding_dimension // 2), std=std)"
   ]
  },
  {
   "cell_type": "code",
   "execution_count": 3,
   "metadata": {},
   "outputs": [
    {
     "name": "stdout",
     "output_type": "stream",
     "text": [
      "tensor([[0.0000],\n",
      "        [0.0100],\n",
      "        [0.0200],\n",
      "        [0.0300],\n",
      "        [0.0400],\n",
      "        [0.0500],\n",
      "        [0.0600],\n",
      "        [0.0700],\n",
      "        [0.0800],\n",
      "        [0.0900],\n",
      "        [0.1000],\n",
      "        [0.1100],\n",
      "        [0.1200],\n",
      "        [0.1300],\n",
      "        [0.1400],\n",
      "        [0.1500],\n",
      "        [0.1600],\n",
      "        [0.1700],\n",
      "        [0.1800],\n",
      "        [0.1900],\n",
      "        [0.2000],\n",
      "        [0.2100],\n",
      "        [0.2200],\n",
      "        [0.2300],\n",
      "        [0.2400],\n",
      "        [0.2500],\n",
      "        [0.2600],\n",
      "        [0.2700],\n",
      "        [0.2800],\n",
      "        [0.2900],\n",
      "        [0.3000],\n",
      "        [0.3100],\n",
      "        [0.3200],\n",
      "        [0.3300],\n",
      "        [0.3400],\n",
      "        [0.3500],\n",
      "        [0.3600],\n",
      "        [0.3700],\n",
      "        [0.3800],\n",
      "        [0.3900],\n",
      "        [0.4000],\n",
      "        [0.4100],\n",
      "        [0.4200],\n",
      "        [0.4300],\n",
      "        [0.4400],\n",
      "        [0.4500],\n",
      "        [0.4600],\n",
      "        [0.4700],\n",
      "        [0.4800],\n",
      "        [0.4900],\n",
      "        [0.5000],\n",
      "        [0.5100],\n",
      "        [0.5200],\n",
      "        [0.5300],\n",
      "        [0.5400],\n",
      "        [0.5500],\n",
      "        [0.5600],\n",
      "        [0.5700],\n",
      "        [0.5800],\n",
      "        [0.5900],\n",
      "        [0.6000],\n",
      "        [0.6100],\n",
      "        [0.6200],\n",
      "        [0.6300],\n",
      "        [0.6400],\n",
      "        [0.6500],\n",
      "        [0.6600],\n",
      "        [0.6700],\n",
      "        [0.6800],\n",
      "        [0.6900],\n",
      "        [0.7000],\n",
      "        [0.7100],\n",
      "        [0.7200],\n",
      "        [0.7300],\n",
      "        [0.7400],\n",
      "        [0.7500],\n",
      "        [0.7600],\n",
      "        [0.7700],\n",
      "        [0.7800],\n",
      "        [0.7900],\n",
      "        [0.8000],\n",
      "        [0.8100],\n",
      "        [0.8200],\n",
      "        [0.8300],\n",
      "        [0.8400],\n",
      "        [0.8500],\n",
      "        [0.8600],\n",
      "        [0.8700],\n",
      "        [0.8800],\n",
      "        [0.8900],\n",
      "        [0.9000],\n",
      "        [0.9100],\n",
      "        [0.9200],\n",
      "        [0.9300],\n",
      "        [0.9400],\n",
      "        [0.9500],\n",
      "        [0.9600],\n",
      "        [0.9700],\n",
      "        [0.9800],\n",
      "        [0.9900],\n",
      "        [1.0000]])\n",
      "torch.Size([101, 64])\n"
     ]
    }
   ],
   "source": [
    "random_data = torch.linspace(0, 1, 101)\n",
    "random_data = random_data[:, None]\n",
    "mapped_data = (2. * PI * random_data) @ basis\n",
    "color_embedding = normalize(torch.cat([torch.sin(mapped_data), torch.cos(mapped_data)], dim=-1), p=2.0, dim=1)\n",
    "\n",
    "print(random_data)\n",
    "print(color_embedding.shape)\n"
   ]
  },
  {
   "cell_type": "code",
   "execution_count": 4,
   "metadata": {},
   "outputs": [
    {
     "name": "stdout",
     "output_type": "stream",
     "text": [
      "tensor([[ 1.0000,  0.9980,  0.9920,  ..., -0.0671, -0.0703, -0.0736],\n",
      "        [ 0.9980,  1.0000,  0.9980,  ..., -0.0639, -0.0671, -0.0703],\n",
      "        [ 0.9920,  0.9980,  1.0000,  ..., -0.0608, -0.0639, -0.0671],\n",
      "        ...,\n",
      "        [-0.0671, -0.0639, -0.0608,  ...,  1.0000,  0.9980,  0.9920],\n",
      "        [-0.0703, -0.0671, -0.0639,  ...,  0.9980,  1.0000,  0.9980],\n",
      "        [-0.0736, -0.0703, -0.0671,  ...,  0.9920,  0.9980,  1.0000]])\n"
     ]
    }
   ],
   "source": [
    "print(color_embedding @ color_embedding.T)"
   ]
  },
  {
   "cell_type": "code",
   "execution_count": 5,
   "metadata": {},
   "outputs": [
    {
     "name": "stdout",
     "output_type": "stream",
     "text": [
      "torch.Size([1, 32])\n",
      "torch.Size([201, 1])\n",
      "torch.Size([201])\n"
     ]
    },
    {
     "data": {
      "text/plain": [
       "[<matplotlib.lines.Line2D at 0x7f93164867f0>]"
      ]
     },
     "execution_count": 5,
     "metadata": {},
     "output_type": "execute_result"
    },
    {
     "data": {
      "image/png": "[encoded data removed]",
      "text/plain": [
       "<Figure size 640x480 with 1 Axes>"
      ]
     },
     "metadata": {},
     "output_type": "display_data"
    }
   ],
   "source": [
    "print(basis.shape)\n",
    "delta = torch.linspace(-1, 1, 201)\n",
    "delta = delta[:, None]\n",
    "print(delta.shape)\n",
    "values = torch.sum(torch.cos(2 * PI * delta * basis), dim=1)\n",
    "print(values.shape)\n",
    "plt.plot(delta, values)\n"
   ]
  }
 ],
 "metadata": {
  "kernelspec": {
   "display_name": "Python 3",
   "language": "python",
   "name": "python3"
  },
  "language_info": {
   "codemirror_mode": {
    "name": "ipython",
    "version": 3
   },
   "file_extension": ".py",
   "mimetype": "text/x-python",
   "name": "python",
   "nbconvert_exporter": "python",
   "pygments_lexer": "ipython3",
   "version": "3.8.15"
  }
 },
 "nbformat": 4,
 "nbformat_minor": 2
}
